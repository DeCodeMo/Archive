{
 "cells": [
  {
   "cell_type": "markdown",
   "id": "45fd2b29",
   "metadata": {
    "toc": true
   },
   "source": [
    "<h1>Table of Contents<span class=\"tocSkip\"></span></h1>\n",
    "<div class=\"toc\"><ul class=\"toc-item\"><li><span><a href=\"#Basic-Array-Operations-in-Python\" data-toc-modified-id=\"Basic-Array-Operations-in-Python-1\"><span class=\"toc-item-num\">1&nbsp;&nbsp;</span>Basic Array Operations in Python</a></span></li><li><span><a href=\"#General-Purpose-DSP-Functions\" data-toc-modified-id=\"General-Purpose-DSP-Functions-2\"><span class=\"toc-item-num\">2&nbsp;&nbsp;</span>General Purpose DSP Functions</a></span><ul class=\"toc-item\"><li><span><a href=\"#Unit-Step\" data-toc-modified-id=\"Unit-Step-2.1\"><span class=\"toc-item-num\">2.1&nbsp;&nbsp;</span>Unit Step</a></span></li><li><span><a href=\"#Convolution\" data-toc-modified-id=\"Convolution-2.2\"><span class=\"toc-item-num\">2.2&nbsp;&nbsp;</span>Convolution</a></span></li><li><span><a href=\"#Analog-filter-functions\" data-toc-modified-id=\"Analog-filter-functions-2.3\"><span class=\"toc-item-num\">2.3&nbsp;&nbsp;</span>Analog filter functions</a></span></li></ul></li></ul></div>"
   ]
  },
  {
   "cell_type": "code",
   "execution_count": 1,
   "id": "07f61b12",
   "metadata": {},
   "outputs": [],
   "source": [
    "import cmath as cm\n",
    "import math as ma\n",
    "import numpy as np\n",
    "from matplotlib import pyplot as plt\n",
    "from sympy import *"
   ]
  },
  {
   "cell_type": "markdown",
   "id": "f39347a6",
   "metadata": {},
   "source": [
    "## Basic Array Operations in Python"
   ]
  },
  {
   "cell_type": "code",
   "execution_count": 2,
   "id": "c671998a",
   "metadata": {},
   "outputs": [
    {
     "data": {
      "text/plain": [
       "array([ 1,  4,  9, 16], dtype=int32)"
      ]
     },
     "execution_count": 2,
     "metadata": {},
     "output_type": "execute_result"
    }
   ],
   "source": [
    "#define array using numpy\n",
    "A = np.array([1,2,3,4])\n",
    "#Raise array to a power and sum each element\n",
    "A**2"
   ]
  },
  {
   "cell_type": "code",
   "execution_count": 3,
   "id": "d9ac7a14",
   "metadata": {},
   "outputs": [
    {
     "data": {
      "text/plain": [
       "[1, 4, 9, 16]"
      ]
     },
     "execution_count": 3,
     "metadata": {},
     "output_type": "execute_result"
    }
   ],
   "source": [
    "#define array using standard library\n",
    "A = [1,2,3,4]\n",
    "#A**2 #does not work\n",
    "# using list comprehension\n",
    "[i**2 for i in A]"
   ]
  },
  {
   "cell_type": "code",
   "execution_count": 4,
   "id": "4fd55dea",
   "metadata": {},
   "outputs": [
    {
     "data": {
      "text/plain": [
       "[4, 10, 18, 28]"
      ]
     },
     "execution_count": 4,
     "metadata": {},
     "output_type": "execute_result"
    }
   ],
   "source": [
    "# multiply 2 arrays with built-in\n",
    "A = [1,2,3,4]\n",
    "B = [4,5,6,7]\n",
    "C = []\n",
    "for i,j in zip(A,B):\n",
    "    C.append(i*j)\n",
    "C"
   ]
  },
  {
   "cell_type": "code",
   "execution_count": 5,
   "id": "14fedeca",
   "metadata": {},
   "outputs": [
    {
     "data": {
      "text/plain": [
       "array([ 4, 10, 18, 28])"
      ]
     },
     "execution_count": 5,
     "metadata": {},
     "output_type": "execute_result"
    }
   ],
   "source": [
    "# Using numpy\n",
    "A = np.array(A)\n",
    "B = np.array(B)\n",
    "C = A*B\n",
    "C"
   ]
  },
  {
   "cell_type": "code",
   "execution_count": 6,
   "id": "2445f5f8",
   "metadata": {},
   "outputs": [
    {
     "data": {
      "text/plain": [
       "1"
      ]
     },
     "execution_count": 6,
     "metadata": {},
     "output_type": "execute_result"
    }
   ],
   "source": [
    "# Indexing\n",
    "A = [1,2,3,4]\n",
    "A[0]"
   ]
  },
  {
   "cell_type": "code",
   "execution_count": 7,
   "id": "f1630710",
   "metadata": {},
   "outputs": [
    {
     "data": {
      "text/plain": [
       "[1, 2]"
      ]
     },
     "execution_count": 7,
     "metadata": {},
     "output_type": "execute_result"
    }
   ],
   "source": [
    "A[:2]"
   ]
  },
  {
   "cell_type": "code",
   "execution_count": 8,
   "id": "9af8dab7",
   "metadata": {},
   "outputs": [
    {
     "data": {
      "text/plain": [
       "[3, 4]"
      ]
     },
     "execution_count": 8,
     "metadata": {},
     "output_type": "execute_result"
    }
   ],
   "source": [
    "A[2:]"
   ]
  },
  {
   "cell_type": "code",
   "execution_count": 9,
   "id": "30eeac3b",
   "metadata": {},
   "outputs": [
    {
     "data": {
      "text/plain": [
       "3"
      ]
     },
     "execution_count": 9,
     "metadata": {},
     "output_type": "execute_result"
    }
   ],
   "source": [
    "A[2]"
   ]
  },
  {
   "cell_type": "markdown",
   "id": "9da1bc42",
   "metadata": {},
   "source": [
    "## General Purpose DSP Functions"
   ]
  },
  {
   "cell_type": "code",
   "execution_count": 10,
   "id": "a9c5eb3a",
   "metadata": {},
   "outputs": [],
   "source": [
    "# helper\n",
    "def linspace(start,stop,step=None):\n",
    "    '''Returns a numpy array of values with optional step parameter. \n",
    "    '''\n",
    "    if step != None:\n",
    "        return np.arange(start,stop,step)\n",
    "    else:\n",
    "        return np.arange(start,stop)\n",
    "    \n",
    "def nsize(xn, zero_index):\n",
    "    '''Generate an array sized from the input array [xn] and shifted according to zero index\\n\n",
    "       zero index is the nth integer from the left ie... [1,0,8,2], 8 is 3rd integer so zero_index is 3\n",
    "    '''\n",
    "    stop = (len(xn) - zero_index) + 1 #defines end point of array\n",
    "    start = -(abs((len(xn))) - stop)\n",
    "    return list(range(start,stop))    \n",
    "\n",
    "syms = symbols"
   ]
  },
  {
   "cell_type": "markdown",
   "id": "ee4a4b83",
   "metadata": {},
   "source": [
    "$\\sum_{n=0}^{n} Asin(2 \\pi f n) $"
   ]
  },
  {
   "cell_type": "code",
   "execution_count": 11,
   "id": "978a47bc",
   "metadata": {},
   "outputs": [],
   "source": [
    "def sinsum(amplitude,f,n):\n",
    "    '''Compute sum of simusoidal terms of the form shown above'''\n",
    "    A = amplitude\n",
    "    W = 2*ma.pi*f\n",
    "    Wn = W*n\n",
    "    T = 1/f\n",
    "    step = (n[1]-n[0])\n",
    "    xn = A * np.array(np.sin(Wn))\n",
    "    print(f\"Frequency = {f:0.2f} Hz\\nAmplitude = {A:0.2f} units\\nAng Freq  = {W:0.2f} Rad/s\\nPeriod    = {T:0.2f} s\")\n",
    "    print(f\"Step size = {step}\\nSample range: ({min(n)} < n < {max(n+step)})\")\n",
    "    return xn"
   ]
  },
  {
   "cell_type": "code",
   "execution_count": 12,
   "id": "1b4d67cd",
   "metadata": {},
   "outputs": [
    {
     "name": "stdout",
     "output_type": "stream",
     "text": [
      "Frequency = 1.00 Hz\n",
      "Amplitude = 1.00 units\n",
      "Ang Freq  = 6.28 Rad/s\n",
      "Period    = 1.00 s\n",
      "Step size = 0.02\n",
      "Sample range: (0.0 < n < 1.0)\n"
     ]
    },
    {
     "data": {
      "text/plain": [
       "<StemContainer object of 3 artists>"
      ]
     },
     "execution_count": 12,
     "metadata": {},
     "output_type": "execute_result"
    },
    {
     "data": {
      "image/png": "[encoded data removed]",
      "text/plain": [
       "<Figure size 432x288 with 1 Axes>"
      ]
     },
     "metadata": {
      "needs_background": "light"
     },
     "output_type": "display_data"
    }
   ],
   "source": [
    "A = 1\n",
    "f= 1\n",
    "n = linspace(0,1,0.02)\n",
    "xn = sinsum(A,f,n)\n",
    "plt.stem(n,xn)"
   ]
  },
  {
   "cell_type": "markdown",
   "id": "10ea31e0",
   "metadata": {},
   "source": [
    "### Unit Step"
   ]
  },
  {
   "cell_type": "code",
   "execution_count": 13,
   "id": "af659f36",
   "metadata": {},
   "outputs": [],
   "source": [
    "def ustep(n0,n1,n2,plot=None):\n",
    "    if n0 < n1 or n0 > n2 or n1 > n2:\n",
    "        print(\"error, args must be n1 <= n0 <= n2\")\n",
    "    n = list(range(n1,n2+1))\n",
    "    x = []\n",
    "    for i in range(len(n)):\n",
    "        nt = (1 if n[i]-n0 >= 0 else 0)\n",
    "        x.append(nt)\n",
    "    if plot == True:\n",
    "        plt.rcParams[\"figure.figsize\"] = [10, 5]\n",
    "        plt.rcParams[\"figure.autolayout\"] = True\n",
    "        plt.stem(n,x)\n",
    "        plt.xlabel('n')\n",
    "        plt.ylabel('y[n]')\n",
    "        plt.grid('on')\n",
    "        plt.axis([-0.1+min(n), 0.1+max(n), -0.1+min(x), 0.1+max(x)])\n",
    "    else:\n",
    "        return np.array(x)"
   ]
  },
  {
   "cell_type": "code",
   "execution_count": 18,
   "id": "5f64e831",
   "metadata": {},
   "outputs": [
    {
     "name": "stdout",
     "output_type": "stream",
     "text": [
      "error, args must be n1 <= n0 <= n2\n"
     ]
    },
    {
     "data": {
      "text/plain": [
       "array([], dtype=float64)"
      ]
     },
     "execution_count": 18,
     "metadata": {},
     "output_type": "execute_result"
    }
   ],
   "source": [
    "ustep(10,2,1)"
   ]
  },
  {
   "cell_type": "markdown",
   "id": "48004744",
   "metadata": {},
   "source": [
    "### Convolution"
   ]
  },
  {
   "cell_type": "code",
   "execution_count": null,
   "id": "6aee9f85",
   "metadata": {},
   "outputs": [],
   "source": [
    "# modified convolution function\n",
    "def conv_m(x,xn,h,nh,plot=None):\n",
    "    minN = min(xn) + min(hn)\n",
    "    maxN = max(xn) + max(hn)\n",
    "    yn = np.array((range(minN, maxN + 1)))\n",
    "    y = conv(x,h)\n",
    "    sol =  {'n':yn,'y':y}\n",
    "    if plot == True:\n",
    "        plt.rcParams[\"figure.figsize\"] = [10, 5]\n",
    "        plt.rcParams[\"figure.autolayout\"] = True\n",
    "        plt.stem(sol['n'],sol['y'])\n",
    "        plt.xlabel('n')\n",
    "        plt.ylabel('y[n]')\n",
    "        plt.title('Convolution Plot')\n",
    "        for i, j in zip(sol['n'], sol['y']):\n",
    "            plt.text(i, j+1.5, '({})'.format(j))\n",
    "        return sol\n",
    "    else:     \n",
    "        return y"
   ]
  },
  {
   "cell_type": "markdown",
   "id": "961b9abb",
   "metadata": {},
   "source": [
    "### Analog filter functions\n",
    "* incomplete"
   ]
  },
  {
   "cell_type": "code",
   "execution_count": 16,
   "id": "0557f247",
   "metadata": {},
   "outputs": [],
   "source": [
    "# fix to return b,a\n",
    "def afd_butt(Wp,Ws,Rp,As):\n",
    "    expr1 = Wp <= 0\n",
    "    expr2 = Ws <= Wp\n",
    "    expr3 = Rp <= 0\n",
    "    expr4 = As < 0\n",
    "    if expr1:\n",
    "        raise Exception(\"Passband edge must be larger then 0\")\n",
    "    if expr2:\n",
    "        raise Exception(\"Stopband edge must be larger than passband edge\")\n",
    "    if expr3 or expr4:\n",
    "        raise Exception(\"PB ripple and/or SB attenuation must be larger then 0\")\n",
    "    N = ma.ceil((ma.log10((10**(Rp/10)-1)/(10**(As/10)-1)))/(2*ma.log10(Wp/Ws)))\n",
    "    OmegaC = Wp/((10**(Rp/10)-1)**(1/(2*N)))\n",
    "    return {'order':N,'Wc':OmegaC}"
   ]
  },
  {
   "cell_type": "code",
   "execution_count": 17,
   "id": "acda9698",
   "metadata": {},
   "outputs": [
    {
     "data": {
      "text/plain": [
       "{'order': 16, 'Wc': 0.6863292436130353}"
      ]
     },
     "execution_count": 17,
     "metadata": {},
     "output_type": "execute_result"
    }
   ],
   "source": [
    "# Analog filter order and Wc\n",
    "afd_butt(0.2*ma.pi,0.3*ma.pi,0.25,43)"
   ]
  }
 ],
 "metadata": {
  "kernelspec": {
   "display_name": "Python 3 (ipykernel)",
   "language": "python",
   "name": "python3"
  },
  "language_info": {
   "codemirror_mode": {
    "name": "ipython",
    "version": 3
   },
   "file_extension": ".py",
   "mimetype": "text/x-python",
   "name": "python",
   "nbconvert_exporter": "python",
   "pygments_lexer": "ipython3",
   "version": "3.8.10"
  },
  "toc": {
   "base_numbering": 1,
   "nav_menu": {},
   "number_sections": true,
   "sideBar": true,
   "skip_h1_title": true,
   "title_cell": "Table of Contents",
   "title_sidebar": "Contents",
   "toc_cell": true,
   "toc_position": {},
   "toc_section_display": true,
   "toc_window_display": true
  }
 },
 "nbformat": 4,
 "nbformat_minor": 5
}
