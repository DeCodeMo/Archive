{
 "cells": [
  {
   "cell_type": "markdown",
   "id": "da64fc9f",
   "metadata": {
    "toc": true
   },
   "source": [
    "<h1>Table of Contents<span class=\"tocSkip\"></span></h1>\n",
    "<div class=\"toc\"><ul class=\"toc-item\"><li><span><a href=\"#DFT\" data-toc-modified-id=\"DFT-1\"><span class=\"toc-item-num\">1&nbsp;&nbsp;</span>DFT</a></span></li></ul></div>"
   ]
  },
  {
   "cell_type": "markdown",
   "id": "39dc8563",
   "metadata": {},
   "source": [
    "## DFT"
   ]
  },
  {
   "cell_type": "code",
   "execution_count": 1,
   "id": "d7b26568",
   "metadata": {},
   "outputs": [],
   "source": [
    "import math as ma\n",
    "import numpy as np\n",
    "import cmath as cm\n",
    "from decimal import *\n",
    "from matplotlib import pyplot as plt"
   ]
  },
  {
   "cell_type": "code",
   "execution_count": 2,
   "id": "fb8c1161",
   "metadata": {},
   "outputs": [],
   "source": [
    "def nsize(xn, zero_index):\n",
    "    '''Generate an array sized from the input array [xn] and shifted according to zero index\\n\n",
    "       zero index is the nth integer from the left ie... [1,0,8,2], 8 is 3rd integer so zero_index is 3\n",
    "    '''\n",
    "    stop = (len(xn) - zero_index) + 1 #defines end point of array\n",
    "    start = -(abs((len(xn))) - stop)\n",
    "    return list(range(start,stop))\n",
    "\n",
    "# adjusted indexing and output of list\n",
    "def nrange(start,stop):\n",
    "    '''Define an array with MATLAB like indexing, returns a list'''\n",
    "    return list(range(start,stop + 1))\n",
    "\n",
    "def dft(xn):\n",
    "    n = np.array(nsize(xn,1))\n",
    "    N = len(n)-1\n",
    "    k = n\n",
    "    WN = e**(-1j*2*ma.pi/N)\n",
    "    nk = np.array(n*k)\n",
    "    WNnk = np.array(WN**(nk))\n",
    "    return np.array(xn*WNnk)\n",
    "\n",
    "fft = np.fft.fft"
   ]
  },
  {
   "cell_type": "code",
   "execution_count": 3,
   "id": "35234696",
   "metadata": {},
   "outputs": [],
   "source": [
    "def dft2(x,N):    \n",
    "    # >> Discrete Fourier transform for sampled signals\n",
    "    # x [in]: sampled signals, a list of magnitudes (real numbers)\n",
    "    # yr [out]: real parts of the sinusoids\n",
    "    # yi [out]: imaginary parts of the sinusoids\n",
    "    yr = []\n",
    "    yi = []\n",
    "    for k in range(N):\n",
    "        real, imag= 0, 0\n",
    "        for n in range(N):\n",
    "            theta =-k * (2 * ma.pi) * (float(n) / N)\n",
    "            real += x[n] * ma.cos(theta)\n",
    "            imag += x[n] * ma.sin(theta)\n",
    "            yr.append(real / N)\n",
    "            yi.append(imag / N)\n",
    "    #print(f\" {yr} + j{yi}\")\n",
    "    return yr,yi"
   ]
  },
  {
   "cell_type": "code",
   "execution_count": 4,
   "id": "4dfb040f",
   "metadata": {},
   "outputs": [],
   "source": [
    "def fft_v(x):\n",
    "    x = np.asarray(x, dtype=float)\n",
    "    N = x.shape[0]\n",
    "    if np.log2(N) % 1 > 0:\n",
    "        raise ValueError(\"must be a power of 2\")\n",
    "        \n",
    "    N_min = min(N, 2)\n",
    "    \n",
    "    n = np.arange(N_min)\n",
    "    k = n[:, None]\n",
    "    M = np.exp(-2j * np.pi * n * k / N_min)\n",
    "    X = np.dot(M, x.reshape((N_min, -1)))\n",
    "    while X.shape[0] < N:\n",
    "        X_even = X[:, :int(X.shape[1] / 2)]\n",
    "        X_odd = X[:, int(X.shape[1] / 2):]\n",
    "        terms = np.exp(-1j * np.pi * np.arange(X.shape[0])\n",
    "                        / X.shape[0])[:, None]\n",
    "        X = np.vstack([X_even + terms * X_odd,\n",
    "                       X_even - terms * X_odd])\n",
    "    return X.ravel()"
   ]
  },
  {
   "cell_type": "code",
   "execution_count": 5,
   "id": "f63ff6f0",
   "metadata": {},
   "outputs": [
    {
     "data": {
      "text/plain": [
       "array([ 6.+0.j, -2.+2.j, -2.+0.j, -2.-2.j])"
      ]
     },
     "execution_count": 5,
     "metadata": {},
     "output_type": "execute_result"
    }
   ],
   "source": [
    "fft_v([0,1,2,3])"
   ]
  },
  {
   "cell_type": "code",
   "execution_count": 6,
   "id": "515f7a90",
   "metadata": {},
   "outputs": [],
   "source": [
    "x = [0,1,2,3]\n",
    "\n",
    "xf = [float(i) for i in x]\n",
    "N = len(xf)\n",
    "if ma.log2(N) % 1 > 0:\n",
    "    print(\"Must be a power of 2\")\n",
    "minN = min(N,2)\n",
    "n = list(range(0,minN))\n",
    "#M = cmath.exp(-2*1j*cmath.pi*n*k/minN)"
   ]
  },
  {
   "cell_type": "code",
   "execution_count": 7,
   "id": "3b453d82",
   "metadata": {},
   "outputs": [],
   "source": [
    "array = [0,1]\n",
    "rows = len(array)\n",
    "columns = 1"
   ]
  },
  {
   "cell_type": "code",
   "execution_count": 8,
   "id": "5ab96be5",
   "metadata": {},
   "outputs": [
    {
     "data": {
      "text/plain": [
       "[0, 1, 2, 3]"
      ]
     },
     "execution_count": 8,
     "metadata": {},
     "output_type": "execute_result"
    }
   ],
   "source": [
    "x"
   ]
  },
  {
   "cell_type": "code",
   "execution_count": 9,
   "id": "6f74d6f3",
   "metadata": {},
   "outputs": [],
   "source": [
    "x = [2,1,-2,3,-1,-1,1]\n",
    "N = 7\n",
    "k=1\n",
    "n=0\n",
    "WN = cm.exp(-1j*2*cm.pi/N)\n",
    "#x0 = 1/N*(x[n]*WN**(k*n) + x[n+1]*WN**(k*n+1) + x[n+2]*WN**(k*n+2) + x[n+3]*WN**(k*n+3) + x[n+4]*WN**(k*n+4) + x[n+5]*WN**(k*n+5) + x[n+6]*WN**(k*n+6)) \n",
    "x0 = []\n",
    "for i in range(len(x)):\n",
    "    x0.append((1/N)*x[n]*WN**(k*n))\n",
    "    n = n+1"
   ]
  },
  {
   "cell_type": "code",
   "execution_count": 10,
   "id": "4520c5f5",
   "metadata": {},
   "outputs": [
    {
     "data": {
      "text/plain": [
       "[(0.2857142857142857+0j),\n",
       " (0.0890699716941048-0.1116902117811471j),\n",
       " (0.06357740970180407+0.27855083205194964j),\n",
       " (-0.3861295148153225-0.185950173907525j),\n",
       " (0.1287098382717742-0.061983391302508274j),\n",
       " (0.03178870485090211-0.13927541602597482j),\n",
       " (0.08906997169410476+0.11169021178114719j)]"
      ]
     },
     "execution_count": 10,
     "metadata": {},
     "output_type": "execute_result"
    }
   ],
   "source": [
    "x0"
   ]
  },
  {
   "cell_type": "code",
   "execution_count": 11,
   "id": "67aab9a4",
   "metadata": {},
   "outputs": [
    {
     "data": {
      "text/plain": [
       "(0.30180066711165315-0.10865814918405836j)"
      ]
     },
     "execution_count": 11,
     "metadata": {},
     "output_type": "execute_result"
    }
   ],
   "source": [
    "sum(x0)"
   ]
  },
  {
   "cell_type": "code",
   "execution_count": 12,
   "id": "1b494026",
   "metadata": {},
   "outputs": [],
   "source": [
    "x = [2,1,-2,3,-1,-1,1]\n",
    "def dftpair(x,N,k):\n",
    "    n = 0\n",
    "    x0 = []\n",
    "    WN = cm.exp(-1j*2*cm.pi/N)\n",
    "    for i in range(len(x)):\n",
    "        x0.append((1/N)*x[n]*WN**(k*n))\n",
    "        n = n+1\n",
    "    return sum(x0)\n",
    "\n",
    "def dft_m(x,N): \n",
    "    k = 0\n",
    "    xn = []\n",
    "    for i in range(0,len(x)):\n",
    "        xn.append(dftpair(x,N,k))\n",
    "        k = k + 1  \n",
    "    return xn\n",
    "\n",
    "def dft_real(x,N):\n",
    "    xn = dft_m(x,N)\n",
    "    return [i.real for i in xn]\n",
    "\n",
    "def dft_imag(x,N):\n",
    "    xn = dft_m(x,N)\n",
    "    return [i.imag for i in xn]\n",
    "\n",
    "def dft_mag(x,N):\n",
    "    xn = dft_m(x,N)\n",
    "    return [abs(i) for i in xn]\n",
    "\n",
    "def dft_phase(x,N):\n",
    "    xn = dft_m(x,N)\n",
    "    return [cm.phase(i) for i in xn]"
   ]
  },
  {
   "cell_type": "code",
   "execution_count": 13,
   "id": "68db255c",
   "metadata": {},
   "outputs": [
    {
     "data": {
      "text/plain": [
       "[(0.42857142857142855+0j),\n",
       " (0.30180066711165315-0.10865814918405836j),\n",
       " (0.7864063342160135+0.38477745582208056j),\n",
       " (-0.3024927156133811-0.6687918758850468j),\n",
       " (-0.3024927156133819+0.668791875885046j),\n",
       " (0.7864063342160148-0.3847774558220803j),\n",
       " (0.30180066711165304+0.10865814918405868j)]"
      ]
     },
     "execution_count": 13,
     "metadata": {},
     "output_type": "execute_result"
    }
   ],
   "source": [
    "dft_m(x,7)"
   ]
  },
  {
   "cell_type": "code",
   "execution_count": 14,
   "id": "6c57f8c8",
   "metadata": {},
   "outputs": [],
   "source": [
    "r = dft_real(x,7)\n",
    "n = nsize(r,1)"
   ]
  },
  {
   "cell_type": "code",
   "execution_count": 15,
   "id": "84a34028",
   "metadata": {},
   "outputs": [],
   "source": [
    "i = dft_imag(x,7)"
   ]
  },
  {
   "cell_type": "code",
   "execution_count": 16,
   "id": "0f7499b4",
   "metadata": {},
   "outputs": [],
   "source": [
    "m = dft_mag(x,7)"
   ]
  },
  {
   "cell_type": "code",
   "execution_count": 17,
   "id": "3798b47e",
   "metadata": {},
   "outputs": [],
   "source": [
    "ph = dft_phase(x,7)"
   ]
  },
  {
   "cell_type": "code",
   "execution_count": 18,
   "id": "61c60f30",
   "metadata": {},
   "outputs": [
    {
     "data": {
      "text/plain": [
       "<StemContainer object of 3 artists>"
      ]
     },
     "execution_count": 18,
     "metadata": {},
     "output_type": "execute_result"
    },
    {
     "data": {
      "image/png": "[encoded data removed]",
      "text/plain": [
       "<Figure size 432x288 with 1 Axes>"
      ]
     },
     "metadata": {
      "needs_background": "light"
     },
     "output_type": "display_data"
    }
   ],
   "source": [
    "plt.stem(n,x)"
   ]
  },
  {
   "cell_type": "code",
   "execution_count": 19,
   "id": "474be6df",
   "metadata": {},
   "outputs": [
    {
     "data": {
      "text/plain": [
       "<StemContainer object of 3 artists>"
      ]
     },
     "execution_count": 19,
     "metadata": {},
     "output_type": "execute_result"
    },
    {
     "data": {
      "image/png": "[encoded data removed]",
      "text/plain": [
       "<Figure size 432x288 with 1 Axes>"
      ]
     },
     "metadata": {
      "needs_background": "light"
     },
     "output_type": "display_data"
    }
   ],
   "source": [
    "plt.stem(n,r)"
   ]
  },
  {
   "cell_type": "code",
   "execution_count": 20,
   "id": "0d99667c",
   "metadata": {},
   "outputs": [
    {
     "data": {
      "text/plain": [
       "<StemContainer object of 3 artists>"
      ]
     },
     "execution_count": 20,
     "metadata": {},
     "output_type": "execute_result"
    },
    {
     "data": {
      "image/png": "[encoded data removed]",
      "text/plain": [
       "<Figure size 432x288 with 1 Axes>"
      ]
     },
     "metadata": {
      "needs_background": "light"
     },
     "output_type": "display_data"
    }
   ],
   "source": [
    "plt.stem(n,i)"
   ]
  },
  {
   "cell_type": "code",
   "execution_count": 21,
   "id": "5eece245",
   "metadata": {},
   "outputs": [
    {
     "data": {
      "text/plain": [
       "<StemContainer object of 3 artists>"
      ]
     },
     "execution_count": 21,
     "metadata": {},
     "output_type": "execute_result"
    },
    {
     "data": {
      "image/png": "[encoded data removed]",
      "text/plain": [
       "<Figure size 432x288 with 1 Axes>"
      ]
     },
     "metadata": {
      "needs_background": "light"
     },
     "output_type": "display_data"
    }
   ],
   "source": [
    "plt.stem(n,m)"
   ]
  },
  {
   "cell_type": "code",
   "execution_count": 22,
   "id": "03c058e4",
   "metadata": {},
   "outputs": [
    {
     "data": {
      "text/plain": [
       "<StemContainer object of 3 artists>"
      ]
     },
     "execution_count": 22,
     "metadata": {},
     "output_type": "execute_result"
    },
    {
     "data": {
      "image/png": "[encoded data removed]",
      "text/plain": [
       "<Figure size 432x288 with 1 Axes>"
      ]
     },
     "metadata": {
      "needs_background": "light"
     },
     "output_type": "display_data"
    }
   ],
   "source": [
    "plt.stem(n,ph)"
   ]
  },
  {
   "cell_type": "code",
   "execution_count": null,
   "id": "9d7b659d",
   "metadata": {},
   "outputs": [],
   "source": []
  }
 ],
 "metadata": {
  "kernelspec": {
   "display_name": "Python 3 (ipykernel)",
   "language": "python",
   "name": "python3"
  },
  "language_info": {
   "codemirror_mode": {
    "name": "ipython",
    "version": 3
   },
   "file_extension": ".py",
   "mimetype": "text/x-python",
   "name": "python",
   "nbconvert_exporter": "python",
   "pygments_lexer": "ipython3",
   "version": "3.8.10"
  },
  "toc": {
   "base_numbering": 1,
   "nav_menu": {},
   "number_sections": true,
   "sideBar": true,
   "skip_h1_title": true,
   "title_cell": "Table of Contents",
   "title_sidebar": "Contents",
   "toc_cell": true,
   "toc_position": {},
   "toc_section_display": true,
   "toc_window_display": true
  }
 },
 "nbformat": 4,
 "nbformat_minor": 5
}
