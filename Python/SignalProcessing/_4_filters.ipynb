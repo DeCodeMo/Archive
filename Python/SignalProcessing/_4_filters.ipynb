{
 "cells": [
  {
   "cell_type": "markdown",
   "id": "f47097f8",
   "metadata": {
    "toc": true
   },
   "source": [
    "<h1>Table of Contents<span class=\"tocSkip\"></span></h1>\n",
    "<div class=\"toc\"><ul class=\"toc-item\"></ul></div>"
   ]
  },
  {
   "cell_type": "markdown",
   "id": "5651c679",
   "metadata": {},
   "source": [
    "# FIR Filters"
   ]
  },
  {
   "cell_type": "code",
   "execution_count": 1,
   "id": "66787187",
   "metadata": {},
   "outputs": [],
   "source": [
    "import math as ma\n",
    "import cmath as cm\n",
    "from matplotlib import pyplot as plt"
   ]
  },
  {
   "cell_type": "code",
   "execution_count": 2,
   "id": "93c04501",
   "metadata": {},
   "outputs": [],
   "source": [
    "# select appropriate window from stopband attenuation\n",
    "def getLPWinFilter(dS,dP,Ws,Wp):\n",
    "    sdB = -20*ma.log10(dS)\n",
    "    dW = Ws-Wp\n",
    "    dF = dW/(2*ma.pi)\n",
    "    Wc = (Ws+Wp)/2\n",
    "    rect = (0 <= abs(sdB) < 21)\n",
    "    hann = (21 <= abs(sdB) < 44)\n",
    "    hamm = (44 <= abs(sdB) < 53)\n",
    "    blk = (53 <= abs(sdB) < 74)\n",
    "    hn = []\n",
    "    if rect == True:\n",
    "        c = 0.9\n",
    "        N = ma.ceil(c/dF)\n",
    "        n = list(range(1,N-1))\n",
    "        wn = [i==1 for i in n]\n",
    "        hd = [(ma.sin(Wc*(i-a))/(ma.pi*(i-a))) for i in n]\n",
    "        for i in range(1,len(hd)):\n",
    "            hn.append(hd[i]*wn[i])\n",
    "        print(f\"Rect Window: as = {sdB} dB\\nN = {N-1}\")\n",
    "    if hann == True:\n",
    "        c = 3.1\n",
    "        N = ma.ceil(c/dF)\n",
    "        n = list(range(1,N))\n",
    "        wn = [(0.5-0.5*ma.cos((2*ma.pi*i)/(N-1))) for i in n]\n",
    "        a = N/2\n",
    "        hd = [(ma.sin(Wc*(i-a))/(ma.pi*(i-a))) for i in n]\n",
    "        for i in range(1,len(hd)):\n",
    "            hn.append(hd[i]*wn[i])\n",
    "        print(f\"Hann Window: as = {sdB} dB\\nN = {N-1}\")\n",
    "    if hamm == True:\n",
    "        c = 3.3\n",
    "        N = ma.ceil(c/dF)\n",
    "        n = list(range(1,N))\n",
    "        wn = [(0.54-0.46*ma.cos((2*ma.pi*i)/(N-1))) for i in n]\n",
    "        a = N/2\n",
    "        hd = [(ma.sin(Wc*(i-a))/(ma.pi*(i-a))) for i in n]\n",
    "        for i in range(1,len(hd)):\n",
    "            hn.append(hd[i]*wn[i])\n",
    "        print(f\"Hamm Window: as = {sdB} dB\\nN = {N-1}\")\n",
    "    if blk == True:\n",
    "        c = 5.5\n",
    "        N = ma.ceil(c/dF)\n",
    "        n = list(range(1,N))\n",
    "        wn = [((0.42-0.5*ma.cos((2*ma.pi*i)/(N-1)))+(0.08*ma.cos((4*ma.pi*i)/(N-1)))) for i in n]\n",
    "        a = N/2\n",
    "        hd = [(ma.sin(Wc*(i-a))/(ma.pi*(i-a))) for i in n]\n",
    "        for i in range(1,len(hd)):\n",
    "            hn.append(hd[i]*wn[i])\n",
    "        print(f\"Hamm Window: as = {sdB} dB\\nN = {N-1}\")\n",
    "    return hn"
   ]
  },
  {
   "cell_type": "code",
   "execution_count": 5,
   "id": "1b9f9342",
   "metadata": {},
   "outputs": [
    {
     "name": "stdout",
     "output_type": "stream",
     "text": [
      "Hann Window: as = 40.0 dB\n",
      "N = 310\n"
     ]
    }
   ],
   "source": [
    "sdB = -20*ma.log10(dS)\n",
    "dW = Ws-Wp\n",
    "dF = dW/(2*ma.pi)\n",
    "Wc = (Ws+Wp)/2\n",
    "rect = (0 <= abs(sdB) < 21)\n",
    "hann = (21 <= abs(sdB) < 44)\n",
    "hamm = (44 <= abs(sdB) < 53)\n",
    "blk = (53 <= abs(sdB) < 74)\n",
    "hn = []\n",
    "if rect == True:\n",
    "    c = 0.9\n",
    "    N = ma.ceil(c/dF)\n",
    "    n = list(range(1,N-1))\n",
    "    wn = [i==1 for i in n]\n",
    "    print(f\"Rect Window: as = {sdB} dB\\nN = {N-1}\")\n",
    "if hann == True:\n",
    "    c = 3.1\n",
    "    N = ma.ceil(c/dF)\n",
    "    n = list(range(1,N))\n",
    "    wn = [(0.5-0.5*ma.cos((2*ma.pi*i)/(N-1))) for i in n]\n",
    "    a = N/2\n",
    "    hd = [(ma.sin(Wc*(i-a))/(ma.pi*(i-a))) for i in n]\n",
    "    for i in range(1,len(hd)):\n",
    "        hn.append(hd[i]*wn[i])\n",
    "    print(f\"Hann Window: as = {sdB} dB\\nN = {N-1}\")\n",
    "if hamm == True:\n",
    "    c = 3.3\n",
    "    N = ma.ceil(c/dF)\n",
    "    n = list(range(1,N))\n",
    "    wn = [(0.54-0.46*ma.cos((2*ma.pi*i)/(N-1))) for i in n]\n",
    "    a = N/2\n",
    "    hd = [(ma.sin(Wc*(i-a))/(ma.pi*(i-a))) for i in n]\n",
    "    for i in range(1,len(hd)):\n",
    "        hn.append(hd[i]*wn[i])\n",
    "    print(f\"Hamm Window: as = {sdB} dB\\nN = {N-1}\")\n",
    "if blk == True:\n",
    "    c = 3.3\n",
    "    N = ma.ceil(c/dF)\n",
    "    n = list(range(1,N))\n",
    "    wn = [((0.42-0.5*ma.cos((2*ma.pi*i)/(N-1)))+(0.08*ma.cos((4*ma.pi*i)/(N-1)))) for i in n]\n",
    "    a = N/2\n",
    "    hd = [(ma.sin(Wc*(i-a))/(ma.pi*(i-a))) for i in n]\n",
    "    for i in range(1,len(hd)):\n",
    "        hn.append(hd[i]*wn[i])\n",
    "    print(f\"Hamm Window: as = {sdB} dB\\nN = {N-1}\")"
   ]
  },
  {
   "cell_type": "code",
   "execution_count": 6,
   "id": "b3d1e60e",
   "metadata": {},
   "outputs": [
    {
     "data": {
      "text/plain": [
       "<StemContainer object of 3 artists>"
      ]
     },
     "execution_count": 6,
     "metadata": {},
     "output_type": "execute_result"
    },
    {
     "data": {
      "image/png": "[encoded data removed]",
      "text/plain": [
       "<Figure size 432x288 with 1 Axes>"
      ]
     },
     "metadata": {
      "needs_background": "light"
     },
     "output_type": "display_data"
    }
   ],
   "source": [
    "plt.stem(hn)"
   ]
  },
  {
   "cell_type": "code",
   "execution_count": 7,
   "id": "1c448b93",
   "metadata": {},
   "outputs": [
    {
     "data": {
      "text/plain": [
       "<StemContainer object of 3 artists>"
      ]
     },
     "execution_count": 7,
     "metadata": {},
     "output_type": "execute_result"
    },
    {
     "data": {
      "image/png": "[encoded data removed]",
      "text/plain": [
       "<Figure size 432x288 with 1 Axes>"
      ]
     },
     "metadata": {
      "needs_background": "light"
     },
     "output_type": "display_data"
    }
   ],
   "source": [
    "plt.stem(hd)"
   ]
  },
  {
   "cell_type": "code",
   "execution_count": 8,
   "id": "344cc2e6",
   "metadata": {},
   "outputs": [
    {
     "data": {
      "text/plain": [
       "<StemContainer object of 3 artists>"
      ]
     },
     "execution_count": 8,
     "metadata": {},
     "output_type": "execute_result"
    },
    {
     "data": {
      "image/png": "[encoded data removed]",
      "text/plain": [
       "<Figure size 432x288 with 1 Axes>"
      ]
     },
     "metadata": {
      "needs_background": "light"
     },
     "output_type": "display_data"
    }
   ],
   "source": [
    "plt.stem(wn)"
   ]
  },
  {
   "cell_type": "code",
   "execution_count": 10,
   "id": "58560639",
   "metadata": {},
   "outputs": [
    {
     "name": "stdout",
     "output_type": "stream",
     "text": [
      "N = \n",
      " 310\n",
      "Wc = \n",
      " 0.6283185307179586\n",
      "dF = \n",
      " 0.009999999999999997\n"
     ]
    }
   ],
   "source": [
    "dS = 0.01\n",
    "dP = 0.01\n",
    "Wp = 0.19*ma.pi\n",
    "Ws = 0.21*ma.pi\n",
    "print(\"N = \\n\", N-1)\n",
    "print(\"Wc = \\n\", Wc)\n",
    "print(\"dF = \\n\", dF)"
   ]
  },
  {
   "cell_type": "code",
   "execution_count": null,
   "id": "535992ac",
   "metadata": {},
   "outputs": [],
   "source": []
  }
 ],
 "metadata": {
  "kernelspec": {
   "display_name": "Python 3 (ipykernel)",
   "language": "python",
   "name": "python3"
  },
  "language_info": {
   "codemirror_mode": {
    "name": "ipython",
    "version": 3
   },
   "file_extension": ".py",
   "mimetype": "text/x-python",
   "name": "python",
   "nbconvert_exporter": "python",
   "pygments_lexer": "ipython3",
   "version": "3.8.10"
  },
  "toc": {
   "base_numbering": 1,
   "nav_menu": {},
   "number_sections": true,
   "sideBar": true,
   "skip_h1_title": true,
   "title_cell": "Table of Contents",
   "title_sidebar": "Contents",
   "toc_cell": true,
   "toc_position": {},
   "toc_section_display": true,
   "toc_window_display": false
  }
 },
 "nbformat": 4,
 "nbformat_minor": 5
}
