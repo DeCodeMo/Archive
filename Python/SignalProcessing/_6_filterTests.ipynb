{
 "cells": [
  {
   "cell_type": "markdown",
   "id": "0fd1f7b2",
   "metadata": {
    "toc": true
   },
   "source": [
    "<h1>Table of Contents<span class=\"tocSkip\"></span></h1>\n",
    "<div class=\"toc\"><ul class=\"toc-item\"></ul></div>"
   ]
  },
  {
   "cell_type": "markdown",
   "id": "49297a4d",
   "metadata": {},
   "source": [
    "# IRR Filters"
   ]
  },
  {
   "cell_type": "code",
   "execution_count": 1,
   "id": "2a3fcfb4",
   "metadata": {},
   "outputs": [],
   "source": [
    "import math as ma\n",
    "import cmath as cm"
   ]
  },
  {
   "cell_type": "markdown",
   "id": "a6a93168",
   "metadata": {},
   "source": [
    "Butterworth"
   ]
  },
  {
   "cell_type": "code",
   "execution_count": 2,
   "id": "65e4c747",
   "metadata": {},
   "outputs": [],
   "source": [
    "########## GENERAL IRR ##############\n",
    "\n",
    "def Rp(delP):\n",
    "    rp = -20*ma.log10((1-delP)/(1+delP))\n",
    "    return rp\n",
    "\n",
    "def As(delS,delP):\n",
    "    ds = -20*ma.log10(delS/(1+delP))\n",
    "    return ds\n",
    "\n",
    "def omegaP(Wp):\n",
    "    wp = ma.tan(Wp/2)\n",
    "    return wp\n",
    "  \n",
    "def omegaS(Ws):\n",
    "    ws = ma.tan(Ws/2)\n",
    "    return ws\n",
    "\n",
    "def d_param(delP,delS):\n",
    "    d = (((1-delP)**(-2)-1)/(delS**(-2)-1))**(1/2)\n",
    "    return d\n",
    "\n",
    "def k_param(omega_p,omega_s):\n",
    "    k = omega_p/omega_s\n",
    "    return k\n",
    "############# BUTTERWORTH #####################    \n",
    "# get the butterworth coefficients for\n",
    "# N <= 8\n",
    "def getButtCo(N):\n",
    "    if ((N > 8) or (N != int(N)) or (N < 1)):\n",
    "            print(\"Enter an Integer between 1 and 8\")       \n",
    "    else:\n",
    "        if N == 1:\n",
    "            return 1.0\n",
    "        if N == 2:\n",
    "            return [1.4142, 1]\n",
    "        if N == 3:\n",
    "            return [2.0, 2.0, 1.0]\n",
    "        if N == 4:\n",
    "            return [2.6131, 3.4142,2.6131, 1.0]\n",
    "        if N == 5:\n",
    "            return [3.2361, 5.2361, 5.2361, 3.2361,1]\n",
    "        if N == 6:\n",
    "            return [3.8637, 7.4641, 9.1416, 7.4641, 3.8637,1.0]\n",
    "        if N == 7:\n",
    "            return [4.4940, 10.0978, 14.5918, 14.5918, 10.0978, 4.4940,1.0]\n",
    "        if N == 8:\n",
    "            return [5.1258,13.1371,21.8462,25.6884,21.8462,13.1372,5.1258,1.0]\n",
    "            \n",
    "def buttord(d,k):\n",
    "    n = ma.ceil(ma.log(d)/ma.log(k))\n",
    "    return n\n",
    "\n",
    "def setWc(Wp,Ws):\n",
    "      return (Wp+Ws)/2\n",
    "\n",
    "    \n",
    "############## CHEBYSHEV ################\n",
    "\n",
    "def chebord(d,k):\n",
    "    di = 1/d\n",
    "    ki = 1/k\n",
    "    num = ma.log(di+ma.sqrt(di**2+1))\n",
    "    dem = ma.log(ki+ma.sqrt(ki**2+1))\n",
    "    n = ma.ceil(num/dem)\n",
    "    return n\n",
    "\n",
    "def getChebE(dP):\n",
    "      return ((1-dP)**(-2)-1)**(1/2)\n",
    "\n",
    "def getTN(N):\n",
    "    tn = []\n",
    "    k = list(range(0,len(N)))\n",
    "    \n",
    "############## ELLIPTICAL ###############\n",
    "\n",
    "def ellipord(d,k):\n",
    "    num = 1-(1-k**2)**(1/4)\n",
    "    dem = 1+(1-k**2)**(1/4)\n",
    "    q = 0.5*(num/dem)\n",
    "    k = 16/(d**2)\n",
    "    q0 = 1/q\n",
    "    n = ma.ceil(ma.log(k)/ma.log(q0))\n",
    "    return n\n",
    "\n"
   ]
  },
  {
   "cell_type": "code",
   "execution_count": 3,
   "id": "cb6f54b4",
   "metadata": {},
   "outputs": [],
   "source": [
    "wp = 0.375*ma.pi\n",
    "ws = 0.5*ma.pi"
   ]
  },
  {
   "cell_type": "code",
   "execution_count": 4,
   "id": "3d46fc68",
   "metadata": {},
   "outputs": [],
   "source": [
    "Wp = omegaP(wp)\n",
    "Ws = omegaS(ws)\n",
    "Wc = setWc(Wp,Ws)"
   ]
  },
  {
   "cell_type": "code",
   "execution_count": 5,
   "id": "6a1032ea",
   "metadata": {},
   "outputs": [],
   "source": [
    "dp = 0.01\n",
    "ds = dp\n",
    "d = d_param(dp,ds)\n",
    "k = k_param(Wp,Ws)\n",
    "N = buttord(d,k)"
   ]
  },
  {
   "cell_type": "code",
   "execution_count": 6,
   "id": "0da7b773",
   "metadata": {},
   "outputs": [],
   "source": [
    "# FFT for some digital signal x\n",
    "# using Cooley-Turkey \n",
    "\n",
    "def fft(x,form=None):\n",
    "    OP = 0\n",
    "    N = len(x)\n",
    "    if N == 1:\n",
    "        return [x[0]]\n",
    "    X = [0] * N\n",
    "    even = fft(x[:N:2])\n",
    "    odd = fft(x[1:N:2])\n",
    "    for k in range(N//2):\n",
    "        w = ma.e**(-2j*ma.pi * k/N)\n",
    "        X[k] = even[k] + w * odd[k]\n",
    "        X[k + N//2] = even[k] - w * odd[k]\n",
    "        OP += 2\n",
    "    if form=='Magnitude':\n",
    "        return [abs(i) for i in X]\n",
    "    if form=='Phase':\n",
    "        return [cm.phase(i) for i in X]\n",
    "    if form=='Real':\n",
    "        return [i.real for i in X]\n",
    "    if form=='Imaginary':\n",
    "        return [i.imag for i in X]\n",
    "    return X"
   ]
  },
  {
   "cell_type": "code",
   "execution_count": 7,
   "id": "3928d06a",
   "metadata": {},
   "outputs": [],
   "source": [
    "x = [0,1,1,2,1,3]\n",
    "X = fft(x)\n",
    "r = [i.real for i in X]\n",
    "i = [i.imag for i in X]\n",
    "mag = [abs(i) for i in X]\n",
    "pha = [cm.phase(i) for i in X]"
   ]
  },
  {
   "cell_type": "code",
   "execution_count": 8,
   "id": "f81c8aa6",
   "metadata": {},
   "outputs": [],
   "source": [
    "Xmag = fft(x,'Magnitude')"
   ]
  },
  {
   "cell_type": "code",
   "execution_count": 9,
   "id": "b54accbc",
   "metadata": {},
   "outputs": [
    {
     "data": {
      "text/plain": [
       "[8.0, 2.0, 0.0, 4.0, 2.0, 0.0]"
      ]
     },
     "execution_count": 9,
     "metadata": {},
     "output_type": "execute_result"
    }
   ],
   "source": [
    "Xmag"
   ]
  },
  {
   "cell_type": "code",
   "execution_count": null,
   "id": "2469cc92",
   "metadata": {},
   "outputs": [],
   "source": []
  },
  {
   "cell_type": "code",
   "execution_count": null,
   "id": "33049871",
   "metadata": {},
   "outputs": [],
   "source": []
  }
 ],
 "metadata": {
  "kernelspec": {
   "display_name": "base",
   "language": "python",
   "name": "python3"
  },
  "language_info": {
   "codemirror_mode": {
    "name": "ipython",
    "version": 3
   },
   "file_extension": ".py",
   "mimetype": "text/x-python",
   "name": "python",
   "nbconvert_exporter": "python",
   "pygments_lexer": "ipython3",
   "version": "3.8.10 (default, May 19 2021, 13:12:57) [MSC v.1916 64 bit (AMD64)]"
  },
  "toc": {
   "base_numbering": 1,
   "nav_menu": {},
   "number_sections": true,
   "sideBar": true,
   "skip_h1_title": true,
   "title_cell": "Table of Contents",
   "title_sidebar": "Contents",
   "toc_cell": true,
   "toc_position": {},
   "toc_section_display": true,
   "toc_window_display": false
  },
  "vscode": {
   "interpreter": {
    "hash": "9efc10545c3652f207ff83638b8feb87c22cb238f816121a2edade281429b1e9"
   }
  }
 },
 "nbformat": 4,
 "nbformat_minor": 5
}
