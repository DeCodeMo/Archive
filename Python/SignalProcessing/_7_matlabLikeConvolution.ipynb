{
 "cells": [
  {
   "cell_type": "markdown",
   "id": "6ff2901e",
   "metadata": {
    "toc": true
   },
   "source": [
    "<h1>Table of Contents<span class=\"tocSkip\"></span></h1>\n",
    "<div class=\"toc\"><ul class=\"toc-item\"><li><span><a href=\"#MATLAB-like-convolution-function-for-DSP-application-in-Python\" data-toc-modified-id=\"MATLAB-like-convolution-function-for-DSP-application-in-Python-1\"><span class=\"toc-item-num\">1&nbsp;&nbsp;</span>MATLAB like convolution function for DSP application in Python</a></span></li></ul></div>"
   ]
  },
  {
   "cell_type": "markdown",
   "id": "dd5f6844",
   "metadata": {},
   "source": [
    "### MATLAB like convolution function for DSP application in Python\n",
    "* Gary Decosmo\n",
    "* October 27,2021"
   ]
  },
  {
   "cell_type": "code",
   "execution_count": 1,
   "id": "37c2cbef",
   "metadata": {},
   "outputs": [],
   "source": [
    "import numpy as np\n",
    "from matplotlib import pyplot as plt"
   ]
  },
  {
   "cell_type": "markdown",
   "id": "c88825c7",
   "metadata": {},
   "source": [
    "Convolution function and nsize function for MATLAB like results\n",
    "* Makes use of numpy.convolve() function"
   ]
  },
  {
   "cell_type": "code",
   "execution_count": 2,
   "id": "df826e7d",
   "metadata": {},
   "outputs": [],
   "source": [
    "# modified convolution function\n",
    "def convolve(x,xn,h,hn):\n",
    "    '''Convolution of two discrete sequences by extending the numpy library conv function\n",
    "       returns a dictionary containing two sequences: y[n] and n\n",
    "       Example: y = convolve(x,xn,h,hn)\n",
    "                yn = y['y[n]']\n",
    "                n = y['n']\n",
    "       Then you can graph with pyplot.stem(n,yn)\n",
    "       Or enter directly as pyplot.stem(y['n'],y['y[n]'])\n",
    "    '''\n",
    "    minN = min(xn) + min(hn)\n",
    "    maxN = max(xn) + max(hn)\n",
    "    n = np.array((range(minN, maxN + 1)))\n",
    "    yn = np.convolve(x,h)\n",
    "    return {'n':n,'y[n]':yn}\n",
    "\n",
    "def nsize(xn, zero_index):\n",
    "    '''Generate an array sized from the input array [xn] and shifted according to zero index\\n\n",
    "       zero index is the nth integer from the left ie... [1,0,8,2], 8 is 3rd integer so zero_index is 3\n",
    "    '''\n",
    "    stop = (len(xn) - zero_index) + 1 #defines end point of array\n",
    "    start = -(abs((len(xn))) - stop)\n",
    "    return list(range(start,stop))"
   ]
  },
  {
   "cell_type": "markdown",
   "id": "a82bacbc",
   "metadata": {},
   "source": [
    "**Step 1:** Define `x` and `h` sequences"
   ]
  },
  {
   "cell_type": "code",
   "execution_count": 3,
   "id": "ba132f2f",
   "metadata": {},
   "outputs": [],
   "source": [
    "x = np.array([3,11,7,0,-1,4,2])\n",
    "h = np.array([2,3,0,-5,2,1])"
   ]
  },
  {
   "cell_type": "markdown",
   "id": "e2d1a8ce",
   "metadata": {},
   "source": [
    "**Step 2:** Define `xn` and `hn` sequences specifying zero locations"
   ]
  },
  {
   "cell_type": "code",
   "execution_count": 4,
   "id": "81e08593",
   "metadata": {},
   "outputs": [],
   "source": [
    "xn = nsize(x,4) # saying that zero is at x[3] or the 4th integer from the left\n",
    "hn = nsize(h,2) # saying that zero is at x[1] or the 2nd integer from the left"
   ]
  },
  {
   "cell_type": "markdown",
   "id": "7ac2b34d",
   "metadata": {},
   "source": [
    "**Step 3:** Pass in parameters\n",
    "* Note you could just enter s"
   ]
  },
  {
   "cell_type": "code",
   "execution_count": 5,
   "id": "9666098f",
   "metadata": {},
   "outputs": [
    {
     "data": {
      "text/plain": [
       "{'n': array([-4, -3, -2, -1,  0,  1,  2,  3,  4,  5,  6,  7]),\n",
       " 'y[n]': array([  6,  31,  47,   6, -51,  -5,  41,  18, -22,  -3,   8,   2])}"
      ]
     },
     "execution_count": 5,
     "metadata": {},
     "output_type": "execute_result"
    }
   ],
   "source": [
    "y = convolve(x,xn,h,hn)\n",
    "y"
   ]
  },
  {
   "cell_type": "markdown",
   "id": "9afba5f3",
   "metadata": {},
   "source": [
    "Indexing `n` sequence"
   ]
  },
  {
   "cell_type": "code",
   "execution_count": 6,
   "id": "af8d8abc",
   "metadata": {},
   "outputs": [
    {
     "data": {
      "text/plain": [
       "array([-4, -3, -2, -1,  0,  1,  2,  3,  4,  5,  6,  7])"
      ]
     },
     "execution_count": 6,
     "metadata": {},
     "output_type": "execute_result"
    }
   ],
   "source": [
    "n = y['n']\n",
    "n"
   ]
  },
  {
   "cell_type": "markdown",
   "id": "b5fb0f57",
   "metadata": {},
   "source": [
    "Indexing `y[n]`"
   ]
  },
  {
   "cell_type": "code",
   "execution_count": 7,
   "id": "175eb20e",
   "metadata": {},
   "outputs": [
    {
     "data": {
      "text/plain": [
       "array([  6,  31,  47,   6, -51,  -5,  41,  18, -22,  -3,   8,   2])"
      ]
     },
     "execution_count": 7,
     "metadata": {},
     "output_type": "execute_result"
    }
   ],
   "source": [
    "yn = y['y[n]']\n",
    "yn"
   ]
  },
  {
   "cell_type": "markdown",
   "id": "6f405bac",
   "metadata": {},
   "source": [
    "Plotting with `matplotlib.pyplot`"
   ]
  },
  {
   "cell_type": "code",
   "execution_count": 8,
   "id": "a3a8979e",
   "metadata": {},
   "outputs": [
    {
     "data": {
      "text/plain": [
       "<StemContainer object of 3 artists>"
      ]
     },
     "execution_count": 8,
     "metadata": {},
     "output_type": "execute_result"
    },
    {
     "data": {
      "image/png": "[encoded data removed]",
      "text/plain": [
       "<Figure size 432x288 with 1 Axes>"
      ]
     },
     "metadata": {
      "needs_background": "light"
     },
     "output_type": "display_data"
    }
   ],
   "source": [
    "plt.stem(n,yn)"
   ]
  },
  {
   "cell_type": "markdown",
   "id": "7acfd158",
   "metadata": {},
   "source": [
    "A prettier plot"
   ]
  },
  {
   "cell_type": "code",
   "execution_count": 9,
   "id": "edab3405",
   "metadata": {},
   "outputs": [
    {
     "data": {
      "image/png": "[encoded data removed]",
      "text/plain": [
       "<Figure size 720x360 with 1 Axes>"
      ]
     },
     "metadata": {
      "needs_background": "light"
     },
     "output_type": "display_data"
    }
   ],
   "source": [
    "plt.rcParams[\"figure.figsize\"] = [10, 5]\n",
    "plt.rcParams[\"figure.autolayout\"] = True\n",
    "plt.stem(n,yn)\n",
    "plt.xlabel('n')\n",
    "plt.ylabel('y[n]')\n",
    "plt.title('Convolution Plot')\n",
    "for i, j in zip(n, yn):\n",
    "    plt.text(i, j+1.5, '({})'.format(j))"
   ]
  },
  {
   "cell_type": "markdown",
   "id": "1d9da263",
   "metadata": {},
   "source": [
    "Adding plot option to function"
   ]
  },
  {
   "cell_type": "code",
   "execution_count": 10,
   "id": "f6d26bb6",
   "metadata": {},
   "outputs": [],
   "source": [
    "def conv_m(x,xn,h,hn,plot=None):\n",
    "    '''Convolution of two discrete sequences by extending the numpy library conv function\n",
    "       returns a dictionary containing the sequence y[n]\n",
    "       Example: y = convolve(x,xn,h,hn)\n",
    "                yn = y['y[n]']\n",
    "                n = y['n']\n",
    "       Then you can graph with pyplot.stem(n,yn)\n",
    "       Or enter directly as pyplot.stem(y['n'],y['y[n]'])\n",
    "       Optional parameter plot = True returns plot, no plot parameter or plot=False returns no plot\n",
    "       and only solution\n",
    "    '''\n",
    "    minN = min(xn) + min(hn)\n",
    "    maxN = max(xn) + max(hn)\n",
    "    n = np.array((range(minN, maxN + 1)))\n",
    "    yn = np.convolve(x,h)\n",
    "    sol =  {'n':n,'y':yn}\n",
    "    if plot == True:\n",
    "        plt.rcParams[\"figure.figsize\"] = [10, 5]\n",
    "        plt.rcParams[\"figure.autolayout\"] = True\n",
    "        plt.stem(n,yn)\n",
    "        plt.xlabel('n')\n",
    "        plt.ylabel('y[n]')\n",
    "        plt.title('Convolution Plot')\n",
    "        for i, j in zip(n, yn):\n",
    "            plt.text(i, j+1.5, '({})'.format(j))\n",
    "    return sol"
   ]
  },
  {
   "cell_type": "markdown",
   "id": "a4f5d437",
   "metadata": {},
   "source": [
    "Output of function with plot parameter option\n",
    "* If no parameter is entered for plot, it returns dictionary with n and yn sequences\n",
    "* Can specify `plot = False` if desired but not necessary if no plot is desired\n",
    "* `plot = True` returns plot **AND** dictionary containing yn and n sequences"
   ]
  },
  {
   "cell_type": "code",
   "execution_count": 11,
   "id": "633804c5",
   "metadata": {},
   "outputs": [
    {
     "data": {
      "text/plain": [
       "{'n': array([-4, -3, -2, -1,  0,  1,  2,  3,  4,  5,  6,  7]),\n",
       " 'y': array([  6,  31,  47,   6, -51,  -5,  41,  18, -22,  -3,   8,   2])}"
      ]
     },
     "execution_count": 11,
     "metadata": {},
     "output_type": "execute_result"
    },
    {
     "data": {
      "image/png": "[encoded data removed]",
      "text/plain": [
       "<Figure size 720x360 with 1 Axes>"
      ]
     },
     "metadata": {
      "needs_background": "light"
     },
     "output_type": "display_data"
    }
   ],
   "source": [
    "yn_plot = conv_m(x,xn,h,hn,plot=True)\n",
    "yn_plot"
   ]
  },
  {
   "cell_type": "markdown",
   "id": "759b9981",
   "metadata": {},
   "source": [
    "With no plot parameter `plot = None` is default"
   ]
  },
  {
   "cell_type": "code",
   "execution_count": 12,
   "id": "3ac3b6ee",
   "metadata": {},
   "outputs": [
    {
     "data": {
      "text/plain": [
       "{'n': array([-4, -3, -2, -1,  0,  1,  2,  3,  4,  5,  6,  7]),\n",
       " 'y': array([  6,  31,  47,   6, -51,  -5,  41,  18, -22,  -3,   8,   2])}"
      ]
     },
     "execution_count": 12,
     "metadata": {},
     "output_type": "execute_result"
    }
   ],
   "source": [
    "conv_m(x,xn,h,hn)"
   ]
  }
 ],
 "metadata": {
  "kernelspec": {
   "display_name": "Python 3 (ipykernel)",
   "language": "python",
   "name": "python3"
  },
  "language_info": {
   "codemirror_mode": {
    "name": "ipython",
    "version": 3
   },
   "file_extension": ".py",
   "mimetype": "text/x-python",
   "name": "python",
   "nbconvert_exporter": "python",
   "pygments_lexer": "ipython3",
   "version": "3.8.10"
  },
  "toc": {
   "base_numbering": 1,
   "nav_menu": {},
   "number_sections": true,
   "sideBar": true,
   "skip_h1_title": true,
   "title_cell": "Table of Contents",
   "title_sidebar": "Contents",
   "toc_cell": true,
   "toc_position": {},
   "toc_section_display": true,
   "toc_window_display": true
  }
 },
 "nbformat": 4,
 "nbformat_minor": 5
}
