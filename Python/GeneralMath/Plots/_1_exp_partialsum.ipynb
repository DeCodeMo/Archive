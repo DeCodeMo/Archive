{
 "cells": [
  {
   "cell_type": "markdown",
   "id": "fc549b2f",
   "metadata": {
    "toc": true
   },
   "source": [
    "<h1>Table of Contents<span class=\"tocSkip\"></span></h1>\n",
    "<div class=\"toc\"><ul class=\"toc-item\"></ul></div>"
   ]
  },
  {
   "cell_type": "markdown",
   "id": "3cc87bfe",
   "metadata": {},
   "source": []
  },
  {
   "cell_type": "code",
   "execution_count": 1,
   "id": "d2a8ece7",
   "metadata": {},
   "outputs": [
    {
     "data": {
      "text/html": [
       "        <script type=\"text/javascript\">\n",
       "        window.PlotlyConfig = {MathJaxConfig: 'local'};\n",
       "        if (window.MathJax) {MathJax.Hub.Config({SVG: {font: \"STIX-Web\"}});}\n",
       "        if (typeof require !== 'undefined') {\n",
       "        require.undef(\"plotly\");\n",
       "        requirejs.config({\n",
       "            paths: {\n",
       "                'plotly': ['https://cdn.plot.ly/plotly-2.2.0.min']\n",
       "            }\n",
       "        });\n",
       "        require(['plotly'], function(Plotly) {\n",
       "            window._Plotly = Plotly;\n",
       "        });\n",
       "        }\n",
       "        </script>\n",
       "        "
      ]
     },
     "metadata": {},
     "output_type": "display_data"
    }
   ],
   "source": [
    "from ipywidgets import interactive, interact\n",
    "import matplotlib.pyplot as plt\n",
    "import numpy as np\n",
    "import ipywidgets as widgets\n",
    "import sympy as sym\n",
    "import seaborn as sns\n",
    "import plotly.graph_objects as go\n",
    "from plotly.offline import init_notebook_mode, iplot\n",
    "from numba import jit\n",
    "\n",
    "init_notebook_mode(connected=True)\n",
    "jit(nopython=True, parallel=True)\n",
    "sns.set()"
   ]
  },
  {
   "cell_type": "code",
   "execution_count": 2,
   "id": "14643180",
   "metadata": {},
   "outputs": [],
   "source": [
    "class plot():\n",
    "    \n",
    "    def __init__(self, preWidgetN):\n",
    "        \n",
    "        self.N = preWidgetN\n",
    "        \n",
    "        x,y,n ,k = sym.symbols('x, y,n,k', real=True)\n",
    "        X=np.linspace(0, 10, 100)\n",
    "        \n",
    "        #f = sym.Sum((-1)**k*(x**(2*k+1))/(sym.factorial(2*k+1)),(k,0, n))\n",
    "        #f = sym.Sum((-1)**k*(x**(2*k))/(sym.factorial(2*k)),(k,0, n))\n",
    "        f = sym.Sum((x**(k))/(sym.factorial(k)),(k,0, n))\n",
    "        #print(sym.latex(f))\n",
    "        f = f.subs(n, self.N.value)\n",
    "        f = sym.lambdify(x, f)\n",
    "        self.trace1 = go.Scatter(x=X, y=np.exp(X),\n",
    "                            mode='lines+markers',\n",
    "                            name='exp'\n",
    "                               )\n",
    "        self.trace2 = go.Scatter(x=X, y=f(X),\n",
    "                            mode='lines',\n",
    "                            name=r'$\\sum_{k=0}^{%s} \\frac{\\left(-1\\right)^{k} x^{k}}{\\left(k\\right)!}$' %(self.N.value)\n",
    "                               )\n",
    "        \n",
    "        layout = go.Layout(template='plotly_dark')\n",
    "\n",
    "        self.fig = go.FigureWidget(data=[self.trace1, self.trace2], \n",
    "                                   layout = layout,\n",
    "                                   layout_yaxis_range=[0 , 1000]\n",
    "                                  )\n",
    "\n",
    "\n",
    "    def sineSeries(self, change):\n",
    "\n",
    "        x,y,n ,k = sym.symbols('x, y,n,k', real=True)\n",
    "        X=np.linspace(0, 10, 100)\n",
    "        #f = sym.Sum((-1)**k*(x**(2*k+1))/(sym.factorial(2*k+1)),(k,0, n))\n",
    "        #f = sym.Sum((-1)**k*(x**(2*k))/(sym.factorial(2*k)),(k,0, n))\n",
    "        f = sym.Sum((x**(k))/(sym.factorial(k)),(k,0, n))\n",
    "        f = f.subs(n, self.N.value)\n",
    "        f = sym.lambdify(x, f)\n",
    "\n",
    "\n",
    "\n",
    "\n",
    "        with self.fig.batch_update():\n",
    "            self.fig.data[1].x = X\n",
    "            self.fig.data[1].y = f(X)\n",
    "            self.fig.data[1].mode = 'lines'\n",
    "            self.fig.data[1].name = r'$\\sum_{k=0}^{%s} \\frac{\\left(-1\\right)^{k} x^{2 k + 1}}{\\left(2 k + 1\\right)!}$' %(self.N.value)\n",
    "\n",
    "        return \n",
    "    \n",
    "    def show(self):\n",
    "        self.N.observe(self.sineSeries, names='value')\n",
    "        display(self.N, self.fig)\n",
    "        return"
   ]
  },
  {
   "cell_type": "code",
   "execution_count": 3,
   "id": "d8d9ebee",
   "metadata": {},
   "outputs": [
    {
     "data": {
      "application/vnd.jupyter.widget-view+json": {
       "model_id": "a77902189b3b464293b6c5a4399f88e1",
       "version_major": 2,
       "version_minor": 0
      },
      "text/plain": [
       "IntSlider(value=0, description='partial sum order', max=20)"
      ]
     },
     "metadata": {},
     "output_type": "display_data"
    },
    {
     "data": {
      "application/vnd.jupyter.widget-view+json": {
       "model_id": "5c598dfbe696486bb0876d9a783db568",
       "version_major": 2,
       "version_minor": 0
      },
      "text/plain": [
       "FigureWidget({\n",
       "    'data': [{'mode': 'lines+markers',\n",
       "              'name': 'exp',\n",
       "              'type': 'scat…"
      ]
     },
     "metadata": {},
     "output_type": "display_data"
    }
   ],
   "source": [
    "N = widgets.IntSlider(min=0, max=20, step=1, value=0, description='partial sum order')\n",
    "\n",
    "p = plot(N)\n",
    "\n",
    "p.show()"
   ]
  },
  {
   "cell_type": "code",
   "execution_count": null,
   "id": "5342b2b9",
   "metadata": {},
   "outputs": [],
   "source": []
  }
 ],
 "metadata": {
  "kernelspec": {
   "display_name": "Python 3 (ipykernel)",
   "language": "python",
   "name": "python3"
  },
  "language_info": {
   "codemirror_mode": {
    "name": "ipython",
    "version": 3
   },
   "file_extension": ".py",
   "mimetype": "text/x-python",
   "name": "python",
   "nbconvert_exporter": "python",
   "pygments_lexer": "ipython3",
   "version": "3.8.10"
  },
  "toc": {
   "base_numbering": 1,
   "nav_menu": {},
   "number_sections": true,
   "sideBar": true,
   "skip_h1_title": true,
   "title_cell": "Table of Contents",
   "title_sidebar": "Contents",
   "toc_cell": true,
   "toc_position": {},
   "toc_section_display": true,
   "toc_window_display": false
  }
 },
 "nbformat": 4,
 "nbformat_minor": 5
}
