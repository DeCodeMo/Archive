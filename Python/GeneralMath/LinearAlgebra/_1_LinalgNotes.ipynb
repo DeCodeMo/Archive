{
 "cells": [
  {
   "cell_type": "markdown",
   "metadata": {
    "toc": true
   },
   "source": [
    "<h1>Table of Contents<span class=\"tocSkip\"></span></h1>\n",
    "<div class=\"toc\"><ul class=\"toc-item\"><li><span><a href=\"#Definitions\" data-toc-modified-id=\"Definitions-1\"><span class=\"toc-item-num\">1&nbsp;&nbsp;</span>Definitions</a></span><ul class=\"toc-item\"><li><ul class=\"toc-item\"><li><ul class=\"toc-item\"><li><span><a href=\"#Row-Equivalent-Matrices\" data-toc-modified-id=\"Row-Equivalent-Matrices-1.0.0.1\"><span class=\"toc-item-num\">1.0.0.1&nbsp;&nbsp;</span>Row Equivalent Matrices</a></span></li><li><span><a href=\"#Echelon-Matrix-(row-echelon-form)\" data-toc-modified-id=\"Echelon-Matrix-(row-echelon-form)-1.0.0.2\"><span class=\"toc-item-num\">1.0.0.2&nbsp;&nbsp;</span>Echelon Matrix (row echelon form)</a></span></li><li><span><a href=\"#Reduced-Echelon-Matrix-(reduced-row-echelon-form)\" data-toc-modified-id=\"Reduced-Echelon-Matrix-(reduced-row-echelon-form)-1.0.0.3\"><span class=\"toc-item-num\">1.0.0.3&nbsp;&nbsp;</span>Reduced Echelon Matrix (reduced row echelon form)</a></span></li></ul></li></ul></li></ul></li><li><span><a href=\"#Theorems\" data-toc-modified-id=\"Theorems-2\"><span class=\"toc-item-num\">2&nbsp;&nbsp;</span>Theorems</a></span><ul class=\"toc-item\"><li><ul class=\"toc-item\"><li><ul class=\"toc-item\"><li><span><a href=\"#Equivalent-Systems-and-Equivalent-Matrices\" data-toc-modified-id=\"Equivalent-Systems-and-Equivalent-Matrices-2.0.0.1\"><span class=\"toc-item-num\">2.0.0.1&nbsp;&nbsp;</span>Equivalent Systems and Equivalent Matrices</a></span></li><li><span><a href=\"#Theorem-1:-Unique-Reduced-Echelon-Form\" data-toc-modified-id=\"Theorem-1:-Unique-Reduced-Echelon-Form-2.0.0.2\"><span class=\"toc-item-num\">2.0.0.2&nbsp;&nbsp;</span>Theorem 1: Unique Reduced Echelon Form</a></span></li><li><span><a href=\"#Theroem-2:-The-Three-Possibilities\" data-toc-modified-id=\"Theroem-2:-The-Three-Possibilities-2.0.0.3\"><span class=\"toc-item-num\">2.0.0.3&nbsp;&nbsp;</span>Theroem 2: The Three Possibilities</a></span></li><li><span><a href=\"#Theorem-3:-Homogenous-Systems-with-More-Variables-than-Equations\" data-toc-modified-id=\"Theorem-3:-Homogenous-Systems-with-More-Variables-than-Equations-2.0.0.4\"><span class=\"toc-item-num\">2.0.0.4&nbsp;&nbsp;</span>Theorem 3: Homogenous Systems with More Variables than Equations</a></span></li><li><span><a href=\"#Theorem-4:-Homogenous-Systems-with-Unique-Solutions\" data-toc-modified-id=\"Theorem-4:-Homogenous-Systems-with-Unique-Solutions-2.0.0.5\"><span class=\"toc-item-num\">2.0.0.5&nbsp;&nbsp;</span>Theorem 4: Homogenous Systems with Unique Solutions</a></span></li></ul></li></ul></li></ul></li><li><span><a href=\"#Algorithms\" data-toc-modified-id=\"Algorithms-3\"><span class=\"toc-item-num\">3&nbsp;&nbsp;</span>Algorithms</a></span><ul class=\"toc-item\"><li><ul class=\"toc-item\"><li><ul class=\"toc-item\"><li><span><a href=\"#Back-Substitution\" data-toc-modified-id=\"Back-Substitution-3.0.0.1\"><span class=\"toc-item-num\">3.0.0.1&nbsp;&nbsp;</span>Back Substitution</a></span></li><li><span><a href=\"#Gaussian-Elimination\" data-toc-modified-id=\"Gaussian-Elimination-3.0.0.2\"><span class=\"toc-item-num\">3.0.0.2&nbsp;&nbsp;</span>Gaussian Elimination</a></span></li><li><span><a href=\"#Gauss-Jordan-Elimination\" data-toc-modified-id=\"Gauss-Jordan-Elimination-3.0.0.3\"><span class=\"toc-item-num\">3.0.0.3&nbsp;&nbsp;</span>Gauss-Jordan Elimination</a></span></li></ul></li></ul></li></ul></li></ul></div>"
   ]
  },
  {
   "cell_type": "markdown",
   "metadata": {},
   "source": [
    "## Definitions"
   ]
  },
  {
   "cell_type": "markdown",
   "metadata": {},
   "source": [
    "##### Row Equivalent Matrices\n",
    "* Two matrices are equivalent if one can be obtained by the other by a finite sequence of row operations"
   ]
  },
  {
   "cell_type": "markdown",
   "metadata": {},
   "source": [
    "##### Echelon Matrix (row echelon form)\n",
    "The matrix R is called an echelon matrix provided it has the following properties,\n",
    "* **Prop. 1)** Every row of R that consists entirely of zeros (if any) lies beneath every row that contains a nonzero element\n",
    "* **Prop. 2)** In each row of R that contains a nonzero element, the first element is strictly to the right  of the first nonzero element of the preceeding row (if any) \n",
    "* **Prop. 3)** All entries below a pivot are zero"
   ]
  },
  {
   "cell_type": "markdown",
   "metadata": {},
   "source": [
    "##### Reduced Echelon Matrix (reduced row echelon form)\n",
    "A **reduced echelon matrix R** is an echelon matrix that has -- in addition to Properties 1 & 2 -- the following properties:\n",
    "* **Prop. 3)** Each leading entry of R is 1\n",
    "* **Prop. 4)** Each leading entry of R is the only nonzero element in its column"
   ]
  },
  {
   "cell_type": "markdown",
   "metadata": {},
   "source": [
    "## Theorems"
   ]
  },
  {
   "cell_type": "markdown",
   "metadata": {},
   "source": [
    "##### Equivalent Systems and Equivalent Matrices\n",
    "* If the augmented coefficient matrices of two linear systems are row equivalent, the two systems have the same solution set"
   ]
  },
  {
   "cell_type": "markdown",
   "metadata": {},
   "source": [
    "##### Theorem 1: Unique Reduced Echelon Form\n",
    "* Every matrix is row equivalent to one and only one reduced echelon matrix"
   ]
  },
  {
   "cell_type": "markdown",
   "metadata": {},
   "source": [
    "##### Theroem 2: The Three Possibilities\n",
    "A linear system of equations has either\n",
    "* A unique solution\n",
    "* No solution\n",
    "* Infinite solutions"
   ]
  },
  {
   "cell_type": "markdown",
   "metadata": {},
   "source": [
    "##### Theorem 3: Homogenous Systems with More Variables than Equations\n",
    "* Every homogenous linear system with more variables than equations has infinitely many solutions. "
   ]
  },
  {
   "cell_type": "markdown",
   "metadata": {},
   "source": [
    "##### Theorem 4: Homogenous Systems with Unique Solutions\n",
    "* Let R be an `n x n` matrix. Then the homogenous system with coefficient matrix R has only the trivial solution if and only if R is row equivalent to the `n x n` identity matrix\n",
    "    "
   ]
  },
  {
   "cell_type": "markdown",
   "metadata": {},
   "source": [
    "## Algorithms"
   ]
  },
  {
   "cell_type": "markdown",
   "metadata": {},
   "source": [
    "##### Back Substitution\n",
    "* **Step #1)** Set each free variable equal to an arbitraryparamenter (a diferent parameter for each free variable)\n",
    "* **Step #2)** Solve the final (nonzero) equation for its leading variable\n",
    "* **Step #3)** Substitute the result in the next-to-last equation and then solve for its leading variable\n",
    "* **Step #4)** Continuing in this fashion, work upward through the system of equations until all variabnles have been determined"
   ]
  },
  {
   "cell_type": "markdown",
   "metadata": {},
   "source": [
    "##### Gaussian Elimination\n",
    "* **Step #1)** Locate the first column of R that contains a nonzero element\n",
    "* **Step #2)** If the first (top) entry in this column is zero, interchange the first row of R with a row in which the corresponding entry is zero\n",
    "* **Step #3)** Now that the first entry is nonzero. replace the entries below it in the same column with zeros by adding appropriate multiples of the fist row of R to lower rows\n",
    "* **Step #4)** There may be several initial columns of zeros or none at all, Perform steps 1 - 3 on the subsequent columns. \n",
    "* **Step #5)** Repeat this cycle untill an echelon matrix is obtained"
   ]
  },
  {
   "cell_type": "markdown",
   "metadata": {},
   "source": [
    "##### Gauss-Jordan Elimination\n",
    "* **Step #1)** First transform R into echelon form by Gaussian elimination\n",
    "* **Step #2)** Divide each element of each nonzero row by its leading entry (to satisfy property 3)\n",
    "* **Step #3)** Finally, use each leading 1 to \"clear out\" any remaining nonzero elements in its colummn (to satisfy property 4)"
   ]
  },
  {
   "cell_type": "code",
   "execution_count": 1,
   "metadata": {},
   "outputs": [],
   "source": [
    "import numpy as np\n",
    "from numpy import linalg \n",
    "import sympy\n",
    "from matplotlib import pyplot as plt"
   ]
  },
  {
   "cell_type": "markdown",
   "metadata": {},
   "source": [
    "###### Defining the matrix with row 1 and row 2 switched and also, switching row 2 and row 3"
   ]
  },
  {
   "cell_type": "code",
   "execution_count": 2,
   "metadata": {},
   "outputs": [
    {
     "data": {
      "text/plain": [
       "matrix([[ 1,  3,  5, -2],\n",
       "        [ 3,  7,  7,  6],\n",
       "        [ 0,  1,  4, -5]])"
      ]
     },
     "execution_count": 2,
     "metadata": {},
     "output_type": "execute_result"
    }
   ],
   "source": [
    "R = np.matrix([[1,3,5,-2],[3,7,7,6],[0,1,4,-5]])\n",
    "R"
   ]
  },
  {
   "cell_type": "markdown",
   "metadata": {},
   "source": [
    "###### Renaming rows\n",
    "* When performing row operations, Note that the row being changed needs to be referenced by row index"
   ]
  },
  {
   "cell_type": "markdown",
   "metadata": {},
   "source": [
    "###### Referencing rows with a numpy matrix\n",
    "* Rows are referenced like arrays, using a `[]` and index number.\n",
    "* Remember that in an array, the 1st index number is zero, so zero is referencing row #1\n",
    "* So, the 3rd row of the `r` matrix is `r[2]`\n",
    "* The colon `:`is a slicing operator, everything to the right of it is sliced from the row\n",
    "* So by calling `r[2,:]` you are getting all of row 3\n",
    "* You don't have to use the colon if referencing the entire row but it is an example of how to slice it\n",
    "* Note that this is very similar to Matlab which uses parenthesis `r(3,:)`\n",
    "* If it's easier, just assign the rows a new variable for quick manipulation"
   ]
  },
  {
   "cell_type": "code",
   "execution_count": 3,
   "metadata": {},
   "outputs": [],
   "source": [
    "R1 = R[0]\n",
    "R2 = R[1]\n",
    "R3 = R[2]"
   ]
  },
  {
   "cell_type": "code",
   "execution_count": 4,
   "metadata": {},
   "outputs": [
    {
     "data": {
      "text/plain": [
       "matrix([[ 1,  3,  5, -2],\n",
       "        [ 3,  7,  7,  6],\n",
       "        [ 0,  1,  4, -5]])"
      ]
     },
     "execution_count": 4,
     "metadata": {},
     "output_type": "execute_result"
    }
   ],
   "source": [
    "R"
   ]
  },
  {
   "cell_type": "markdown",
   "metadata": {},
   "source": [
    "###### Recall the 3 types of row operatoins\n",
    "* 1) Multiply any single row of R by a nonzero constant `cRp`\n",
    "* 2) Interchange two rows of R `swap(Rp,Rq)`\n",
    "* 3) Add a constant multiple of one row of R to another row `(c)*Rp + Rq`"
   ]
  },
  {
   "cell_type": "markdown",
   "metadata": {},
   "source": [
    "###### Remember there are 3 possibilities for the solution to a system of linear equations\n",
    "* There is exactly one unique solution (geometrically the lines on their respective graphs intersect)\n",
    "* There is no solution (The lines are parallel and therefore continue infinitely without ever intersecting)\n",
    "* There are infinite solutions (the lines coincide and are equal at all points to infinity)"
   ]
  },
  {
   "cell_type": "markdown",
   "metadata": {},
   "source": [
    "###### Basic row operations\n",
    "* 1st we will multiply row 3 by -3 and add it to row 2 to get the new row 2"
   ]
  },
  {
   "cell_type": "code",
   "execution_count": 5,
   "metadata": {},
   "outputs": [],
   "source": [
    "# Remember that the row being changed is referenced by row index, not by the new variable we assigned R[1] = row 2\n",
    "R[1] = -3*R1 + R2"
   ]
  },
  {
   "cell_type": "code",
   "execution_count": 6,
   "metadata": {},
   "outputs": [
    {
     "data": {
      "text/plain": [
       "matrix([[ 1,  3,  5, -2],\n",
       "        [ 0, -2, -8, 12],\n",
       "        [ 0,  1,  4, -5]])"
      ]
     },
     "execution_count": 6,
     "metadata": {},
     "output_type": "execute_result"
    }
   ],
   "source": [
    "# here is our new matrix\n",
    "R"
   ]
  },
  {
   "cell_type": "code",
   "execution_count": null,
   "metadata": {},
   "outputs": [],
   "source": []
  }
 ],
 "metadata": {
  "kernelspec": {
   "display_name": "Python 3 (ipykernel)",
   "language": "python",
   "name": "python3"
  },
  "language_info": {
   "codemirror_mode": {
    "name": "ipython",
    "version": 3
   },
   "file_extension": ".py",
   "mimetype": "text/x-python",
   "name": "python",
   "nbconvert_exporter": "python",
   "pygments_lexer": "ipython3",
   "version": "3.8.10"
  },
  "toc": {
   "base_numbering": 1,
   "nav_menu": {},
   "number_sections": true,
   "sideBar": true,
   "skip_h1_title": true,
   "title_cell": "Table of Contents",
   "title_sidebar": "Contents",
   "toc_cell": true,
   "toc_position": {},
   "toc_section_display": true,
   "toc_window_display": false
  }
 },
 "nbformat": 4,
 "nbformat_minor": 2
}
