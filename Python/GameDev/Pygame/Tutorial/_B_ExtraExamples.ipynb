{
 "cells": [
  {
   "cell_type": "markdown",
   "id": "c7b8da55",
   "metadata": {
    "toc": true
   },
   "source": [
    "<h1>Table of Contents<span class=\"tocSkip\"></span></h1>\n",
    "<div class=\"toc\"><ul class=\"toc-item\"><li><span><a href=\"#Make-a-Button\" data-toc-modified-id=\"Make-a-Button-1\"><span class=\"toc-item-num\">1&nbsp;&nbsp;</span>Make a Button</a></span><ul class=\"toc-item\"><li><span><a href=\"#Draw-a-basic-rectanglular-button\" data-toc-modified-id=\"Draw-a-basic-rectanglular-button-1.1\"><span class=\"toc-item-num\">1.1&nbsp;&nbsp;</span>Draw a basic rectanglular button</a></span></li><li><span><a href=\"#Add-text-to-the-button\" data-toc-modified-id=\"Add-text-to-the-button-1.2\"><span class=\"toc-item-num\">1.2&nbsp;&nbsp;</span>Add text to the button</a></span></li></ul></li><li><span><a href=\"#Background-image\" data-toc-modified-id=\"Background-image-2\"><span class=\"toc-item-num\">2&nbsp;&nbsp;</span>Background image</a></span></li></ul></div>"
   ]
  },
  {
   "cell_type": "markdown",
   "id": "4b3ad320",
   "metadata": {},
   "source": [
    "## Make a Button"
   ]
  },
  {
   "cell_type": "markdown",
   "id": "f2c7d78e",
   "metadata": {},
   "source": [
    "### Draw a basic rectanglular button"
   ]
  },
  {
   "cell_type": "code",
   "execution_count": 4,
   "id": "fcc489e4",
   "metadata": {},
   "outputs": [],
   "source": [
    "import pygame as pg"
   ]
  },
  {
   "cell_type": "code",
   "execution_count": 17,
   "id": "f4668966",
   "metadata": {},
   "outputs": [],
   "source": [
    "pg.init()\n",
    "\n",
    "SCREEN_WIDTH = 800\n",
    "SCREEN_HEIGHT = 600\n",
    "\n",
    "SCREEN_SIZE = [SCREEN_WIDTH, SCREEN_HEIGHT]\n",
    "\n",
    "Midnightblue = (25, 25, 112)\n",
    "Yellow = (255, 255, 0)\n",
    "Blue = (0, 0, 255)\n",
    "Orangered = (255, 69, 0)\n",
    "Darkgrey = (169, 169, 169)\n",
    "White = (255, 255, 255)\n",
    "Silver = (192, 192, 192)\n",
    "\n",
    "screen = pg.display.set_mode(SCREEN_SIZE, 0, 32)\n",
    "\n",
    "pg.display. set_caption(\"Make a Button\")\n",
    "\n",
    "button_width = 100\n",
    "button_height = 50\n",
    "\n",
    "x = (SCREEN_WIDTH - button_width)/2\n",
    "y = (SCREEN_HEIGHT - button_height)/2\n",
    "button_rect = [x, y, button_width, button_height]\n",
    "\n",
    "game_over = False\n",
    "\n",
    "while not game_over:\n",
    "    for event in pg.event.get():\n",
    "        if event.type == pg.QUIT:\n",
    "            game_over = True\n",
    "    pg.draw.rect(screen, Blue, button_rect)\n",
    "    pg.display.update()\n",
    "    \n",
    "pg.quit()"
   ]
  },
  {
   "cell_type": "markdown",
   "id": "de729ff4",
   "metadata": {},
   "source": [
    "### Add text to the button "
   ]
  },
  {
   "cell_type": "code",
   "execution_count": 28,
   "id": "36d1637a",
   "metadata": {},
   "outputs": [],
   "source": [
    "import pygame\n",
    "\n",
    "pygame.init()\n",
    "\n",
    "HEIGHT = 500\n",
    "WIDTH = 500\n",
    "SCREEN_SIZE = [WIDTH, HEIGHT]\n",
    "\n",
    "Midnightblue = (25, 25, 112)\n",
    "Yellow = (255, 255, 0)\n",
    "Blue = (0, 0, 255)\n",
    "OrangeRed = (255, 69, 0)\n",
    "Darkgrey = (169, 169, 169)\n",
    "White = (255, 255, 255)\n",
    "Silver = (192, 192, 192)\n",
    "\n",
    "\n",
    "screen = pygame.display.set_mode(SCREEN_SIZE)\n",
    "pygame.display.set_caption(\"Hello Button\")\n",
    "\n",
    "button_width = 100\n",
    "button_height = 50\n",
    "button_rect = [(screen.get_width() - button_width)/2,\n",
    "               screen.get_height()/2 - button_height/2, button_width, button_height]\n",
    "button_font = pygame.font.SysFont('Arial', 20)\n",
    "button_text = button_font.render('Quit', True, White)\n",
    "\n",
    "screen.fill(Silver)\n",
    "\n",
    "game_over = False\n",
    "x, y = (0, 0)\n",
    "while not game_over:\n",
    "    for event in pygame.event.get():\n",
    "        if event.type == pygame.QUIT:\n",
    "            game_over = True\n",
    "        if event.type == pygame.MOUSEBUTTONDOWN:\n",
    "            x, y = event.pos\n",
    "            if(button_rect[0] <= x <= button_rect[0] + button_rect[2] and\n",
    "               button_rect[1] <= y <= button_rect[1] + button_rect[3]):\n",
    "                game_over = True\n",
    "        if event.type == pygame.MOUSEMOTION:\n",
    "            x, y = event.pos\n",
    "\n",
    "    if(button_rect[0] <= x <= button_rect[0] + button_rect[2] and\n",
    "       button_rect[1] <= y <= button_rect[1] + button_rect[3]):\n",
    "        pygame.draw.rect(screen, OrangeRed, button_rect)\n",
    "    else:\n",
    "        pygame.draw.rect(screen, Blue, button_rect)\n",
    "    screen.blit(button_text, (button_rect[0] + (button_width - button_text.get_width())/2,\n",
    "                              button_rect[1] + (button_height/2 - button_text.get_height()/2)))\n",
    "    pygame.display.update()\n",
    "\n",
    "pygame.quit()\n"
   ]
  },
  {
   "cell_type": "markdown",
   "id": "d715288f",
   "metadata": {},
   "source": [
    "## Background image"
   ]
  },
  {
   "cell_type": "code",
   "execution_count": 35,
   "id": "2c2c36b1",
   "metadata": {},
   "outputs": [
    {
     "name": "stdout",
     "output_type": "stream",
     "text": [
      "---------------- Surface Info ------------------\n",
      "Main screen size(w, h): (800, 400) px\n",
      "Main screen center coord. (x, y): (400, 200)\n",
      "Main screen total pixels: 320000 px\n",
      "Test rect. size (w, h): (50, 50) px \n",
      "Test rect. center coord. (x, y): (375, 175)\n",
      "Test rect. total pixels: 2500 px\n",
      "Test Rect is 0.78 % of the main screen size\n"
     ]
    }
   ],
   "source": [
    "import pygame\n",
    "from game_settings import RGB\n",
    "\n",
    "# init pygame\n",
    "pygame.init()\n",
    "\n",
    "# set screen size\n",
    "WIDTH = 800\n",
    "HEIGHT = 400\n",
    "SCREEN_SIZE = [WIDTH, HEIGHT]\n",
    "MAX_FPS = 60\n",
    "ORIGIN = (0,0)\n",
    "\n",
    "#set title\n",
    "TITLE = \"Background with a centered rectangle!\"\n",
    "\n",
    "# fill screen color (RGB)\n",
    "MAIN_BKCOLOR = RGB('black')\n",
    "\n",
    "game_over = False\n",
    "\n",
    "main_screen = pygame.display.set_mode(SCREEN_SIZE) # display the scrren\n",
    "\n",
    "main_screen.fill(MAIN_BKCOLOR) # fill the screen with color\n",
    "\n",
    "pygame.display.set_caption(TITLE) # display the title\n",
    "\n",
    "fps_clock = pygame.time.Clock()\n",
    "\n",
    "ts_w = 50\n",
    "ts_h = 50\n",
    "ts_centerx = int((WIDTH - ts_w)/2)\n",
    "ts_centery = int((HEIGHT-ts_h)/2)\n",
    "ts_center = [ts_centerx, ts_centery]\n",
    "ts = pygame.Surface((ts_w, ts_h))\n",
    "ts.fill(RGB('red'))\n",
    "\n",
    "sky_surf = pygame.image.load('bkg_static.png')\n",
    "\n",
    "# begin game loop\n",
    "while not game_over:\n",
    "    # event handler\n",
    "    for event in pygame.event.get():\n",
    "        # check for quit event (i.e. closing pygame box)\n",
    "        if event.type == pygame.QUIT:\n",
    "            game_over = True\n",
    "            \n",
    "    \n",
    "    main_screen.blit(sky_surf, ORIGIN)\n",
    "    sky_surf.blit(ts, ts_center)\n",
    "            \n",
    "    pygame.display.update()\n",
    "    \n",
    "    fps_clock.tick(MAX_FPS)\n",
    "            \n",
    "print(\"---------------- Surface Info ------------------\")\n",
    "print(f\"Main screen size(w, h): {main_screen.get_size()} px\")\n",
    "print(f\"Main screen center coord. (x, y): ({int(WIDTH/2)}, {int(HEIGHT/2)})\")\n",
    "print(f\"Main screen total pixels: {WIDTH*HEIGHT} px\")\n",
    "print(f\"Test rect. size (w, h): {ts.get_size()} px \")\n",
    "print(f\"Test rect. center coord. (x, y): ({ts_centerx}, {ts_centery})\")\n",
    "print(f\"Test rect. total pixels: {int(ts_w*ts_h)} px\")\n",
    "print(f\"Test Rect is {round((ts_w*ts_h)/(WIDTH*HEIGHT)*100,2)} % of the main screen size\")\n",
    "pygame.quit()"
   ]
  },
  {
   "cell_type": "code",
   "execution_count": null,
   "id": "84b23699",
   "metadata": {},
   "outputs": [],
   "source": []
  }
 ],
 "metadata": {
  "kernelspec": {
   "display_name": "Python 3 (ipykernel)",
   "language": "python",
   "name": "python3"
  },
  "language_info": {
   "codemirror_mode": {
    "name": "ipython",
    "version": 3
   },
   "file_extension": ".py",
   "mimetype": "text/x-python",
   "name": "python",
   "nbconvert_exporter": "python",
   "pygments_lexer": "ipython3",
   "version": "3.8.10"
  },
  "toc": {
   "base_numbering": 1,
   "nav_menu": {},
   "number_sections": true,
   "sideBar": true,
   "skip_h1_title": true,
   "title_cell": "Table of Contents",
   "title_sidebar": "Contents",
   "toc_cell": true,
   "toc_position": {
    "height": "calc(100% - 180px)",
    "left": "10px",
    "top": "150px",
    "width": "165px"
   },
   "toc_section_display": true,
   "toc_window_display": false
  }
 },
 "nbformat": 4,
 "nbformat_minor": 5
}
